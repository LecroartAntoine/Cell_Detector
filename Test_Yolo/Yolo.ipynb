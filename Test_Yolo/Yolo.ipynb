{
 "cells": [
  {
   "cell_type": "markdown",
   "metadata": {},
   "source": [
    "## Imports"
   ]
  },
  {
   "cell_type": "code",
   "execution_count": null,
   "metadata": {},
   "outputs": [],
   "source": [
    "import ultralytics, cv2, os, yaml\n",
    "import matplotlib.pyplot as plt\n",
    "from ultralytics import YOLO\n",
    "ultralytics.checks()\n",
    "os.environ[\"KMP_DUPLICATE_LIB_OK\"]=\"TRUE\""
   ]
  },
  {
   "cell_type": "markdown",
   "metadata": {},
   "source": [
    "## Create YAML file"
   ]
  },
  {
   "cell_type": "code",
   "execution_count": null,
   "metadata": {},
   "outputs": [],
   "source": [
    "cell_yaml = dict(\n",
    "    train =r'C:\\Users\\antoi\\Documents\\GitHub\\Cell_Detector\\Test_Yolo\\datasets\\images\\train',\n",
    "    val =r'C:\\Users\\antoi\\Documents\\GitHub\\Cell_Detector\\Test_Yolo\\datasets\\images\\val',\n",
    "    test =r'C:\\Users\\antoi\\Documents\\GitHub\\Cell_Detector\\Test_Yolo\\datasets\\images\\test',\n",
    "    nc =1,\n",
    "    names =['cell']\n",
    ")\n",
    "\n",
    "with open('cell.yaml', 'w') as outfile:\n",
    "    yaml.dump(cell_yaml, outfile, default_flow_style=True)"
   ]
  },
  {
   "cell_type": "markdown",
   "metadata": {},
   "source": [
    "## Train"
   ]
  },
  {
   "cell_type": "code",
   "execution_count": null,
   "metadata": {},
   "outputs": [],
   "source": [
    "model = YOLO('yolov8m.pt')  # load a pretrained model (recommended for training)"
   ]
  },
  {
   "cell_type": "code",
   "execution_count": null,
   "metadata": {},
   "outputs": [],
   "source": [
    "# with open('cell.yaml', 'r') as file:\n",
    "#     yaml.load(cell_yaml, file.read())\n",
    "\n",
    "model.train(data = 'cell.yaml', epochs=10, imgsz=640, patience = 50, dropout=0.2, project = 'train_local', device='cpu')"
   ]
  },
  {
   "cell_type": "code",
   "execution_count": null,
   "metadata": {},
   "outputs": [],
   "source": [
    "!yolo task=detect mode=train model=yolov8s.pt data=/content/cell.yaml epochs=10 show=True max_det=600 imgsz=640 dropout=0.2 project=/content/drive/MyDrive/Colab_Notebooks/datasets/results name=train"
   ]
  },
  {
   "cell_type": "markdown",
   "metadata": {},
   "source": [
    "## Test"
   ]
  },
  {
   "cell_type": "code",
   "execution_count": null,
   "metadata": {},
   "outputs": [],
   "source": [
    "best_path='train_local/train7/weights/best.pt'\n",
    "source='datasets/images/test'"
   ]
  },
  {
   "cell_type": "code",
   "execution_count": null,
   "metadata": {},
   "outputs": [],
   "source": [
    "ppaths=[]\n",
    "for dirname, _, filenames in os.walk(source):\n",
    "    for filename in filenames:\n",
    "        if filename[-4:]=='.jpg':\n",
    "            ppaths+=[(os.path.join(dirname, filename))]\n",
    "ppaths=sorted(ppaths)\n",
    "print(ppaths)"
   ]
  },
  {
   "cell_type": "code",
   "execution_count": null,
   "metadata": {},
   "outputs": [],
   "source": [
    "model_trained = YOLO(best_path)"
   ]
  },
  {
   "cell_type": "code",
   "execution_count": null,
   "metadata": {},
   "outputs": [],
   "source": [
    "!yolo task=detect mode=predict model={best_path} conf=0.004 source={source}"
   ]
  },
  {
   "cell_type": "code",
   "execution_count": null,
   "metadata": {},
   "outputs": [],
   "source": [
    "results = model_trained(source, conf=0.01)\n",
    "plot = results[0].plot(line_width = 1, font_size = 2)\n",
    "\n",
    "# cv2.imshow('result', plot)\n",
    "\n",
    "print(len(results[0]))\n",
    "\n",
    "cv2.imwrite('result.jpg', plot)"
   ]
  }
 ],
 "metadata": {
  "kernelspec": {
   "display_name": "Python 3 (ipykernel)",
   "language": "python",
   "name": "python3"
  },
  "language_info": {
   "codemirror_mode": {
    "name": "ipython",
    "version": 3
   },
   "file_extension": ".py",
   "mimetype": "text/x-python",
   "name": "python",
   "nbconvert_exporter": "python",
   "pygments_lexer": "ipython3",
   "version": "3.9.15"
  }
 },
 "nbformat": 4,
 "nbformat_minor": 2
}
