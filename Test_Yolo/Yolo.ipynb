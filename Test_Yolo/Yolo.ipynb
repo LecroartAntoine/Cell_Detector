{
 "cells": [
  {
   "attachments": {},
   "cell_type": "markdown",
   "metadata": {},
   "source": [
    "## Imports Librairies"
   ]
  },
  {
   "cell_type": "code",
   "execution_count": null,
   "metadata": {},
   "outputs": [],
   "source": [
    "import ultralytics, cv2, os, yaml\n",
    "import matplotlib.pyplot as plt\n",
    "from ultralytics import YOLO\n",
    "ultralytics.checks()\n",
    "os.environ[\"KMP_DUPLICATE_LIB_OK\"]=\"TRUE\""
   ]
  },
  {
   "attachments": {},
   "cell_type": "markdown",
   "metadata": {},
   "source": [
    "## Création fichier YAML\n",
    "\n",
    "Ce fichier donne quelques paramètres comme le chemin d'accès aux données d’entraînement et de validation ainsi que le(s) label(s) à détecter"
   ]
  },
  {
   "cell_type": "code",
   "execution_count": null,
   "metadata": {},
   "outputs": [],
   "source": [
    "cell_yaml = dict(\n",
    "    train = r'C:datasets\\images\\train',\n",
    "    val = r'datasets\\images\\val',\n",
    "    test = r'datasets\\images\\test',\n",
    "    nc = 1,\n",
    "    names = ['cell']\n",
    ")\n",
    "\n",
    "with open('datasets/cell.yaml', 'w') as outfile:\n",
    "    yaml.dump(cell_yaml, outfile, default_flow_style=True)"
   ]
  },
  {
   "attachments": {},
   "cell_type": "markdown",
   "metadata": {},
   "source": [
    "## Entraînement"
   ]
  },
  {
   "attachments": {},
   "cell_type": "markdown",
   "metadata": {},
   "source": [
    "### Chargement du Modèle Yolo"
   ]
  },
  {
   "cell_type": "code",
   "execution_count": null,
   "metadata": {},
   "outputs": [],
   "source": [
    "model_name = 'yolov8l.pt'\n",
    "\n",
    "model = YOLO(model_name)"
   ]
  },
  {
   "attachments": {},
   "cell_type": "markdown",
   "metadata": {},
   "source": [
    "### Entraînement sur notre dataset"
   ]
  },
  {
   "cell_type": "code",
   "execution_count": null,
   "metadata": {},
   "outputs": [],
   "source": [
    "model.train(data = 'datasets/cell.yaml', \n",
    "            epochs = 50,\n",
    "            patience = 20, \n",
    "            imgsz = 640, \n",
    "            dropout = 0.2,\n",
    "            project = model_name[:-3], \n",
    "            device = 'cpu',\n",
    "            verbose = True)"
   ]
  },
  {
   "cell_type": "markdown",
   "metadata": {},
   "source": [
    "## Test"
   ]
  },
  {
   "cell_type": "code",
   "execution_count": null,
   "metadata": {},
   "outputs": [],
   "source": [
    "model_name = 'yolov8l.pt'"
   ]
  },
  {
   "cell_type": "code",
   "execution_count": null,
   "metadata": {},
   "outputs": [],
   "source": [
    "# Chemins du modèle entraîné et des images de test\n",
    "best_path = model_name[:-3] + '/train/weights/best.pt'\n",
    "source = 'datasets/images/test_x40'"
   ]
  },
  {
   "cell_type": "code",
   "execution_count": null,
   "metadata": {},
   "outputs": [],
   "source": [
    "# Test des images à tester\n",
    "ppaths=[]\n",
    "for dirname, _, filenames in os.walk(source):\n",
    "    for filename in filenames:\n",
    "        if filename[-4:]=='.jpg':\n",
    "            ppaths += [(os.path.join(dirname, filename))]\n",
    "            \n",
    "ppaths = sorted(ppaths)\n",
    "print(ppaths)"
   ]
  },
  {
   "cell_type": "code",
   "execution_count": null,
   "metadata": {},
   "outputs": [],
   "source": [
    "# Chargement du modèle\n",
    "model_trained = YOLO(best_path)"
   ]
  },
  {
   "cell_type": "code",
   "execution_count": null,
   "metadata": {},
   "outputs": [],
   "source": [
    "# Intervalle de confiance (de 0 à 1)\n",
    "confiance = 0.05\n",
    "\n",
    "# Prédiction\n",
    "results = model_trained(source, conf = confiance)\n",
    "\n",
    "print(len(results[0]))\n",
    "# Sauvegarde des images annotées\n",
    "for i, result in enumerate(results):\n",
    "    plot = result.plot(line_width = 1, font_size = 2)\n",
    "    cv2.imwrite(f'result_{model_name[:-3]}_{i}.jpg', plot)\n"
   ]
  }
 ],
 "metadata": {
  "kernelspec": {
   "display_name": "Python 3 (ipykernel)",
   "language": "python",
   "name": "python3"
  },
  "language_info": {
   "codemirror_mode": {
    "name": "ipython",
    "version": 3
   },
   "file_extension": ".py",
   "mimetype": "text/x-python",
   "name": "python",
   "nbconvert_exporter": "python",
   "pygments_lexer": "ipython3",
   "version": "3.9.16"
  }
 },
 "nbformat": 4,
 "nbformat_minor": 2
}
