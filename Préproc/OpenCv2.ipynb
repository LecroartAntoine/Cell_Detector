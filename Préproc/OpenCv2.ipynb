{
 "cells": [
  {
   "cell_type": "code",
   "execution_count": null,
   "metadata": {},
   "outputs": [],
   "source": [
    "import cv2, os\n",
    "import matplotlib.pyplot as plt\n",
    "import numpy as np"
   ]
  },
  {
   "cell_type": "code",
   "execution_count": null,
   "metadata": {},
   "outputs": [],
   "source": [
    "for file in os.listdir('Images'):\n",
    "\n",
    "    # Ouverture de l'image\n",
    "    img = cv2.imread(f'Images/{file}', cv2.IMREAD_UNCHANGED) \n",
    "    src = img.copy()\n",
    "\n",
    "    # On ne garde que la dimension 1 (= Vert)\n",
    "    src[:,:,2] = np.zeros([src.shape[0], src.shape[1]])\n",
    "    src[:,:,0] = np.zeros([src.shape[0], src.shape[1]])\n",
    "\n",
    "    # Détéction de contours\n",
    "    gray = cv2.cvtColor(src,cv2.COLOR_BGR2GRAY)\n",
    "    _,edge = cv2.threshold(gray, 50, 1, cv2.THRESH_BINARY)\n",
    "    contours,_ = cv2.findContours(edge,cv2.RETR_EXTERNAL, cv2.CHAIN_APPROX_SIMPLE)\n",
    "\n",
    "    # On ne garde que le plus gros contour trouvé\n",
    "    nb_cont = 0\n",
    "    best = -1\n",
    "    for i, contour in enumerate(contours):\n",
    "        if len(contours[i]) > nb_cont:\n",
    "            nb_cont = len(contours[i])\n",
    "            best = i\n",
    "\n",
    "    # On trouve les dimensions du contour\n",
    "    xmin, xmax, ymin, ymax = 5000, 0, 5000, 0\n",
    "    for i, contour in enumerate(contours[best]):\n",
    "        if contour[0][0] > xmax:\n",
    "            xmax = contour[0][0] \n",
    "\n",
    "        if contour[0][0] < xmin:\n",
    "            xmin = contour[0][0] \n",
    "\n",
    "        if contour[0][1] > ymax:\n",
    "            ymax = contour[0][1] \n",
    "\n",
    "        if contour[0][1] < ymin:\n",
    "            ymin = contour[0][1]\n",
    "\n",
    "    # Découpage de l'image avec les dimensions trouvées\n",
    "    cropped = img[ymin:ymax, xmin:xmax]\n",
    "\n",
    "    # Redimension de l'image par un multiple de 32\n",
    "    x = cropped.shape[0]\n",
    "    while x % 32 != 0:\n",
    "        x -= 1\n",
    "    resized = cv2.resize(cropped, (x, x), interpolation = cv2.INTER_AREA)\n",
    "\n",
    "    # Sauvegarde de l'image\n",
    "    cv2.imwrite(f'New_Images/{file}', resized)\n",
    "\n",
    "    # # Pour découper l'image en 4\n",
    "    # im1 = cropped[0 : cropped.shape[1]//2, 0 : cropped.shape[0]//2]\n",
    "    # im2 = cropped[0 : cropped.shape[1]//2, cropped.shape[0]//2 + 1 : cropped.shape[0]]\n",
    "    # im3 = cropped[cropped.shape[1]//2 + 1 : cropped.shape[1], 0 : cropped.shape[0]//2]\n",
    "    # im4 = cropped[cropped.shape[1]//2 + 1 : cropped.shape[1], cropped.shape[0]//2 + 1 : cropped.shape[0]]\n",
    "\n",
    "    # cropped_imgs = [im1, im2, im3, im4]\n",
    "    # for i, image in enumerate(cropped_imgs):\n",
    "    #     resized = cv2.resize(image, (640, 640), interpolation = cv2.INTER_AREA)\n",
    "    #     cv2.imwrite(f'New_Images/{file[:-4]}_{i}.jpg', resized)"
   ]
  }
 ],
 "metadata": {
  "kernelspec": {
   "display_name": "base",
   "language": "python",
   "name": "python3"
  },
  "language_info": {
   "codemirror_mode": {
    "name": "ipython",
    "version": 3
   },
   "file_extension": ".py",
   "mimetype": "text/x-python",
   "name": "python",
   "nbconvert_exporter": "python",
   "pygments_lexer": "ipython3",
   "version": "3.9.16"
  },
  "orig_nbformat": 4
 },
 "nbformat": 4,
 "nbformat_minor": 2
}
