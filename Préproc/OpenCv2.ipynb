{
 "cells": [
  {
   "cell_type": "code",
   "execution_count": null,
   "metadata": {},
   "outputs": [],
   "source": [
    "import cv2, os\n",
    "import matplotlib.pyplot as plt\n",
    "import numpy as np"
   ]
  },
  {
   "cell_type": "code",
   "execution_count": null,
   "metadata": {},
   "outputs": [],
   "source": [
    "for file in os.listdir('Images'):\n",
    "    img = cv2.imread(f'Images/{file}', cv2.IMREAD_UNCHANGED) \n",
    "    src = img.copy()\n",
    "    src[:,:,2] = np.zeros([src.shape[0], src.shape[1]])\n",
    "    src[:,:,0] = np.zeros([src.shape[0], src.shape[1]])\n",
    "\n",
    "    gray = cv2.cvtColor(src,cv2.COLOR_BGR2GRAY)\n",
    "    _,edge = cv2.threshold(gray, 50, 1, cv2.THRESH_BINARY)\n",
    "    contours,_ = cv2.findContours(edge,cv2.RETR_EXTERNAL, cv2.CHAIN_APPROX_SIMPLE)\n",
    "\n",
    "    nb_cont = 0\n",
    "    best = -1\n",
    "    for i, contour in enumerate(contours):\n",
    "        if len(contours[i]) > nb_cont:\n",
    "            nb_cont = len(contours[i])\n",
    "            best = i\n",
    "\n",
    "    xmin, xmax, ymin, ymax = 5000, 0, 5000, 0\n",
    "    for i, contour in enumerate(contours[best]):\n",
    "        if contour[0][0] > xmax:\n",
    "            xmax = contour[0][0] \n",
    "\n",
    "        if contour[0][0] < xmin:\n",
    "            xmin = contour[0][0] \n",
    "\n",
    "        if contour[0][1] > ymax:\n",
    "            ymax = contour[0][1] \n",
    "\n",
    "        if contour[0][1] < ymin:\n",
    "            ymin = contour[0][1]\n",
    "\n",
    "\n",
    "    cropped = img[ymin:ymax, xmin:xmax]\n",
    "    resized = cv2.resize(cropped, (640, 640), interpolation = cv2.INTER_AREA)\n",
    "\n",
    "    cv2.imwrite(f'New_Images/{file}', resized)"
   ]
  }
 ],
 "metadata": {
  "kernelspec": {
   "display_name": "base",
   "language": "python",
   "name": "python3"
  },
  "language_info": {
   "codemirror_mode": {
    "name": "ipython",
    "version": 3
   },
   "file_extension": ".py",
   "mimetype": "text/x-python",
   "name": "python",
   "nbconvert_exporter": "python",
   "pygments_lexer": "ipython3",
   "version": "3.9.15"
  },
  "orig_nbformat": 4
 },
 "nbformat": 4,
 "nbformat_minor": 2
}
